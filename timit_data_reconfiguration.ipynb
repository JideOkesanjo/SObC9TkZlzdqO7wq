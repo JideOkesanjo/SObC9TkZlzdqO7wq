{
  "cells": [
    {
      "cell_type": "markdown",
      "source": [
        "# Introduction\n",
        "This notebook is used to restructure the files in the timit dataset so that it can work with the speechbrain and speech t5 models respectively. The original timit dataset contains subdirectories of speaker audio files, which will not work with the embedding and speech generation models in notebooks one and two."
      ],
      "metadata": {
        "id": "TGhektZdTaEt"
      }
    },
    {
      "cell_type": "markdown",
      "source": [
        "# Mount Google drive"
      ],
      "metadata": {
        "id": "BgapaXNjUXHa"
      }
    },
    {
      "cell_type": "code",
      "execution_count": null,
      "metadata": {
        "colab": {
          "base_uri": "https://localhost:8080/"
        },
        "id": "ynKUPwuR5GOO",
        "outputId": "1d49e94d-5caf-478a-cb0a-07ed5f0be93d"
      },
      "outputs": [
        {
          "name": "stdout",
          "output_type": "stream",
          "text": [
            "Drive already mounted at /content/drive; to attempt to forcibly remount, call drive.mount(\"/content/drive\", force_remount=True).\n"
          ]
        }
      ],
      "source": [
        "from google.colab import drive\n",
        "drive.mount('/content/drive')"
      ]
    },
    {
      "cell_type": "markdown",
      "source": [
        "## Inspecting the directory of one region in the timit dataset"
      ],
      "metadata": {
        "id": "zs4EhVW9Ud7G"
      }
    },
    {
      "cell_type": "code",
      "execution_count": null,
      "metadata": {
        "colab": {
          "base_uri": "https://localhost:8080/"
        },
        "id": "bsniZDIE8U_1",
        "outputId": "c4ef3e13-67fb-4190-f40f-48ba3376212f"
      },
      "outputs": [
        {
          "name": "stdout",
          "output_type": "stream",
          "text": [
            "SA1.PHN  SA2.TXT     SI1027.WAV  SI1657.WRD  SX127.PHN\tSX217.TXT  SX307.WAV  SX37.WRD\n",
            "SA1.TXT  SA2.WAV     SI1027.WRD  SI648.PHN   SX127.TXT\tSX217.WAV  SX307.WRD  SX397.PHN\n",
            "SA1.WAV  SA2.WRD     SI1657.PHN  SI648.TXT   SX127.WAV\tSX217.WRD  SX37.PHN   SX397.TXT\n",
            "SA1.WRD  SI1027.PHN  SI1657.TXT  SI648.WAV   SX127.WRD\tSX307.PHN  SX37.TXT   SX397.WAV\n",
            "SA2.PHN  SI1027.TXT  SI1657.WAV  SI648.WRD   SX217.PHN\tSX307.TXT  SX37.WAV   SX397.WRD\n"
          ]
        }
      ],
      "source": [
        "!ls /content/drive/MyDrive/timit/raw/TIMIT/TRAIN/DR1/FCJF0/"
      ]
    },
    {
      "cell_type": "markdown",
      "source": [
        "- Create a funtion to collect all text and audio in each subdirectory\n",
        "- place all text for each speaker in a main directory called 'txt'\n",
        "- place all audio for each speaker in a main directory called 'wav48'"
      ],
      "metadata": {
        "id": "Yb5hWqigUuPo"
      }
    },
    {
      "cell_type": "code",
      "execution_count": null,
      "metadata": {
        "id": "omJ8mTXyE1EQ"
      },
      "outputs": [],
      "source": [
        "import os\n",
        "import shutil\n",
        "\n",
        "def process_timit_train_directory(timit_train_dir, tts_dataset_dir):\n",
        "    if not os.path.exists(tts_dataset_dir):\n",
        "        os.makedirs(tts_dataset_dir)\n",
        "\n",
        "    # Directories for consolidated text and audio files\n",
        "    txt_dir = os.path.join(tts_dataset_dir, 'txt', 'speaker_transcript')\n",
        "    wav_dir = os.path.join(tts_dataset_dir, 'wav48', 'speaker_audio')\n",
        "    os.makedirs(txt_dir, exist_ok=True)\n",
        "    os.makedirs(wav_dir, exist_ok=True)\n",
        "\n",
        "    # Iterate over DR directories in TIMIT train directory\n",
        "    for dr_directory in os.listdir(timit_train_dir):\n",
        "        dr_path = os.path.join(timit_train_dir, dr_directory)\n",
        "        if os.path.isdir(dr_path):\n",
        "            # Iterate over speaker directories in the current DR directory\n",
        "            for speaker_dir in os.listdir(dr_path):\n",
        "                speaker_path = os.path.join(dr_path, speaker_dir)\n",
        "                if os.path.isdir(speaker_path):\n",
        "                    # Copy TXT and WAV files to the respective consolidated directories\n",
        "                    for file_name in sorted(os.listdir(speaker_path)):\n",
        "                        file_path = os.path.join(speaker_path, file_name)\n",
        "                        if file_name.lower().endswith('.txt'):\n",
        "                            txt_file_path = os.path.join(txt_dir, f\"{speaker_dir}_{file_name}\")\n",
        "                            shutil.copyfile(file_path, txt_file_path)\n",
        "                        elif file_name.lower().endswith('.wav'):\n",
        "                            wav_file_path = os.path.join(wav_dir, f\"{speaker_dir}_{file_name}\")\n",
        "                            shutil.copyfile(file_path, wav_file_path)\n"
      ]
    },
    {
      "cell_type": "code",
      "execution_count": null,
      "metadata": {
        "colab": {
          "background_save": true
        },
        "id": "fyk3EQs-B66j"
      },
      "outputs": [],
      "source": [
        "timit_train_dir = '/content/drive/MyDrive/timit/raw/TIMIT/TRAIN/'\n",
        "tts_dataset_dir = '/content/drive/MyDrive/MyTTSDataset_6'\n",
        "process_timit_train_directory(timit_train_dir, tts_dataset_dir)"
      ]
    },
    {
      "cell_type": "code",
      "execution_count": null,
      "metadata": {
        "colab": {
          "base_uri": "https://localhost:8080/"
        },
        "id": "NDiyNHyhxLdN",
        "outputId": "dc936722-a4e0-4aec-b737-d39373675cec"
      },
      "outputs": [
        {
          "output_type": "stream",
          "name": "stdout",
          "text": [
            "['txt', 'wav48']\n"
          ]
        }
      ],
      "source": [
        "print(os.listdir(tts_dataset_dir))"
      ]
    }
  ],
  "metadata": {
    "accelerator": "GPU",
    "colab": {
      "provenance": [],
      "mount_file_id": "1GFvC7tWs5amWrZcG1-_RFSb0Oy7w4qc_",
      "authorship_tag": "ABX9TyOZsF0CNTZXLjYlaQEWe/+2"
    },
    "kernelspec": {
      "display_name": "Python 3",
      "name": "python3"
    },
    "language_info": {
      "name": "python"
    }
  },
  "nbformat": 4,
  "nbformat_minor": 0
}